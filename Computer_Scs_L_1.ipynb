{
  "nbformat": 4,
  "nbformat_minor": 0,
  "metadata": {
    "colab": {
      "provenance": []
    },
    "kernelspec": {
      "name": "python3",
      "display_name": "Python 3"
    },
    "language_info": {
      "name": "python"
    }
  },
  "cells": [
    {
      "cell_type": "code",
      "execution_count": null,
      "metadata": {
        "colab": {
          "base_uri": "https://localhost:8080/"
        },
        "id": "kfsa4d4MDJW5",
        "outputId": "34a9eb75-31a3-4037-e4b7-9fdd69cbf538"
      },
      "outputs": [
        {
          "output_type": "stream",
          "name": "stdout",
          "text": [
            "10\n",
            "pedri\n"
          ]
        }
      ],
      "source": [
        "print(10)\n",
        "print(\"pedri\")"
      ]
    },
    {
      "cell_type": "code",
      "source": [
        "input(\"enter your name\")"
      ],
      "metadata": {
        "colab": {
          "base_uri": "https://localhost:8080/",
          "height": 52
        },
        "id": "eKKGFspzE3W8",
        "outputId": "38fb6f0b-3402-4bd3-fe08-737d8a1b8cba"
      },
      "execution_count": null,
      "outputs": [
        {
          "name": "stdout",
          "output_type": "stream",
          "text": [
            "enter your nameyanis\n"
          ]
        },
        {
          "output_type": "execute_result",
          "data": {
            "text/plain": [
              "'yanis'"
            ],
            "application/vnd.google.colaboratory.intrinsic+json": {
              "type": "string"
            }
          },
          "metadata": {},
          "execution_count": 4
        }
      ]
    },
    {
      "cell_type": "code",
      "source": [
        "#print number 10.650\n",
        "\n",
        "print(10.65000000)\n"
      ],
      "metadata": {
        "colab": {
          "base_uri": "https://localhost:8080/"
        },
        "id": "dVOQ7oJoFIm0",
        "outputId": "f4bec6d0-92c6-4ed5-850d-314dbf832bee"
      },
      "execution_count": null,
      "outputs": [
        {
          "output_type": "stream",
          "name": "stdout",
          "text": [
            "10.65\n"
          ]
        }
      ]
    },
    {
      "cell_type": "code",
      "source": [
        "X=230\n",
        "name= \"pedri\"\n",
        "print(X)\n",
        "print(name)"
      ],
      "metadata": {
        "colab": {
          "base_uri": "https://localhost:8080/"
        },
        "id": "Z6OH4UGsGGsr",
        "outputId": "e5b9e997-7f15-4851-8804-90206986ecc1"
      },
      "execution_count": null,
      "outputs": [
        {
          "output_type": "stream",
          "name": "stdout",
          "text": [
            "230\n",
            "pedri\n"
          ]
        }
      ]
    },
    {
      "cell_type": "code",
      "source": [
        "city=input(\"which city are you from ?\")\n",
        "print(city)"
      ],
      "metadata": {
        "colab": {
          "base_uri": "https://localhost:8080/"
        },
        "id": "z5_YRFYGG_MF",
        "outputId": "581f49cf-21d3-47e1-9fe8-0ecf0da87f42"
      },
      "execution_count": null,
      "outputs": [
        {
          "output_type": "stream",
          "name": "stdout",
          "text": [
            "which city are you from ?paris\n",
            "paris\n"
          ]
        }
      ]
    },
    {
      "cell_type": "code",
      "source": [
        "name=input(\"What is your first name?\")\n",
        "city=input(\"Where are you from ?\")\n",
        "print(name,city)\n"
      ],
      "metadata": {
        "colab": {
          "base_uri": "https://localhost:8080/"
        },
        "id": "HFckVKqSHkFu",
        "outputId": "6d8074ad-695d-42b0-d274-0b0e914b295d"
      },
      "execution_count": null,
      "outputs": [
        {
          "output_type": "stream",
          "name": "stdout",
          "text": [
            "What is your first name?pedri$\n",
            "Where are you from ?granc\n",
            "pedri$ granc\n"
          ]
        }
      ]
    },
    {
      "cell_type": "code",
      "source": [
        "x = int(input(\"enter a number:\"))\n",
        "y = int(input(\"enter a second number:\"))\n",
        "print(\"result is\",x+y)\n"
      ],
      "metadata": {
        "colab": {
          "base_uri": "https://localhost:8080/"
        },
        "id": "u5jbdM17I4ma",
        "outputId": "b2fc29e6-b891-4ad6-b839-7877cda02fc3"
      },
      "execution_count": null,
      "outputs": [
        {
          "output_type": "stream",
          "name": "stdout",
          "text": [
            "enter a number:15\n",
            "enter a second number:34\n",
            "result is 49\n"
          ]
        }
      ]
    },
    {
      "cell_type": "code",
      "source": [
        "x=int(input(\"Enter a number:\"))\n",
        "y=int(input(\"Enter a number:\"))\n",
        "z=int(input(\"Enter a number:\"))\n",
        "print(\"The product is:\",x*y*z)\n"
      ],
      "metadata": {
        "colab": {
          "base_uri": "https://localhost:8080/"
        },
        "id": "Hw0Xo8HWLEN6",
        "outputId": "823fa0a8-409c-4fe6-b158-f3f7994c99ad"
      },
      "execution_count": null,
      "outputs": [
        {
          "output_type": "stream",
          "name": "stdout",
          "text": [
            "Enter a number:4\n",
            "Enter a number:6\n",
            "Enter a number:9\n",
            "The product is: 216\n"
          ]
        }
      ]
    },
    {
      "cell_type": "code",
      "source": [
        "x=float(input(\"Enter a number\"))\n",
        "y=float(input(\"Enter a number\"))\n",
        "if y==0:\n",
        "  print(\"I cannot divide\")\n",
        "else:\n",
        "  print(x/y)"
      ],
      "metadata": {
        "colab": {
          "base_uri": "https://localhost:8080/"
        },
        "id": "InehmTgDL1vb",
        "outputId": "1f32e27b-36ea-4e93-ff83-76dd3fe5184a"
      },
      "execution_count": null,
      "outputs": [
        {
          "output_type": "stream",
          "name": "stdout",
          "text": [
            "Enter a number4\n",
            "Enter a number0\n",
            "I cannot divide\n"
          ]
        }
      ]
    },
    {
      "cell_type": "code",
      "source": [
        "name=input(\"Enter your name:\")\n",
        "age=int(input(\"Enter your age:\"))\n",
        "if age>17:\n",
        " print(\"You are an adult\")\n",
        "else:\n",
        " print(\"You are a kid\")"
      ],
      "metadata": {
        "colab": {
          "base_uri": "https://localhost:8080/"
        },
        "id": "gKveXjSPNXFv",
        "outputId": "d02386a8-c431-4670-a123-4f932bf28a9d"
      },
      "execution_count": null,
      "outputs": [
        {
          "output_type": "stream",
          "name": "stdout",
          "text": [
            "Enter your name:Yanis\n",
            "Enter your age:18\n",
            "You are an adult\n"
          ]
        }
      ]
    },
    {
      "cell_type": "code",
      "source": [],
      "metadata": {
        "id": "UTyCI5_kppoY"
      },
      "execution_count": null,
      "outputs": []
    },
    {
      "cell_type": "code",
      "source": [
        "score=float(input(\"Enter your score:\"))\n",
        "if score>0 and score<50:\n",
        " print(\"You failed\")\n",
        "elif score>=50 and score<70:\n",
        " print(\"You passed\")\n",
        "elif score>=70 and score<=100:\n",
        " print(\"You got a distinction\")"
      ],
      "metadata": {
        "colab": {
          "base_uri": "https://localhost:8080/"
        },
        "id": "poN2-yUcVF2c",
        "outputId": "eb90d361-320a-47de-fbc3-8526a61c4ffc"
      },
      "execution_count": null,
      "outputs": [
        {
          "output_type": "stream",
          "name": "stdout",
          "text": [
            "Enter your score:74\n",
            "You got a distinction\n"
          ]
        }
      ]
    },
    {
      "cell_type": "code",
      "source": [
        "a=float(input(\"Enter a number:\"))\n",
        "b=float(input(\"Enter a number:\"))\n",
        "if a>b:\n",
        " print(a)\n",
        "else:\n",
        " print(b)"
      ],
      "metadata": {
        "colab": {
          "base_uri": "https://localhost:8080/"
        },
        "id": "sKplzyWWUYdu",
        "outputId": "13f55304-e15a-4d1b-87ca-35d16149a130"
      },
      "execution_count": null,
      "outputs": [
        {
          "output_type": "stream",
          "name": "stdout",
          "text": [
            "Enter a number:10\n",
            "Enter a number:10\n",
            "10.0\n"
          ]
        }
      ]
    },
    {
      "cell_type": "code",
      "source": [
        "x = int(input(\"Enter a number:\"))\n",
        "y = int(input(\"Enter a number:\"))\n",
        "operation = input(\"Enter an operation (+,-,*,/):\")\n",
        "\n",
        "if operation== \"+\":\n",
        " print(x+y)\n",
        "elif operation==\"-\":\n",
        " print(x-y)\n",
        "elif operation==\"*\":\n",
        " print(x*y)\n",
        "elif operation==\"/\" and y!=0:\n",
        "  print(x/y)\n",
        "else:\n",
        "  print(\"I do not support this operation\")"
      ],
      "metadata": {
        "colab": {
          "base_uri": "https://localhost:8080/"
        },
        "id": "OxLpwu5jpulj",
        "outputId": "e3ea71f7-09ef-4634-f633-0bf26562ce62"
      },
      "execution_count": null,
      "outputs": [
        {
          "output_type": "stream",
          "name": "stdout",
          "text": [
            "Enter a number:9\n",
            "Enter a number:98\n",
            "Enter an operation (+,-,*,/):/\n",
            "0.09183673469387756\n"
          ]
        }
      ]
    },
    {
      "cell_type": "code",
      "source": [
        "x = int(input(\"Enter a number:\"))\n",
        "y = int(input(\"Enter a number:\"))\n",
        "operation = input(\"Enter an operation (+,-,*,**,/):\")\n",
        "\n",
        "if operation== \"+\":\n",
        " print(x+y)\n",
        "elif operation==\"-\":\n",
        " print(x-y)\n",
        "elif operation==\"*\":\n",
        " print(x*y)\n",
        "elif operation==\"**\":\n",
        " print(x**y)\n",
        "elif operation==\"/\" and y!=0:\n",
        "  print(x/y)\n",
        "else:\n",
        "  print(\"I do not support this operation\")"
      ],
      "metadata": {
        "colab": {
          "base_uri": "https://localhost:8080/"
        },
        "id": "V4lYSMYsrw2W",
        "outputId": "741d390f-9f08-4d29-d096-f2f39cb4a362"
      },
      "execution_count": null,
      "outputs": [
        {
          "output_type": "stream",
          "name": "stdout",
          "text": [
            "Enter a number:7\n",
            "Enter a number:98\n",
            "Enter an operation (+,-,*,**,/):**\n",
            "66009724686219550843768321818371771650147004059278069406814190436565131829325062449\n"
          ]
        }
      ]
    },
    {
      "cell_type": "code",
      "source": [
        "num = float(input(\"Enter a number:\"))\n",
        "if num>=0 and num <=1:\n",
        "  print(\"Percentage is\", num*100, \"%\")\n",
        "else:\n",
        "  print(\"I cannot do that\")\n"
      ],
      "metadata": {
        "colab": {
          "base_uri": "https://localhost:8080/"
        },
        "id": "t9D-9tgNsU9f",
        "outputId": "a661ca9f-9241-4895-d193-7e429aa2fb0e"
      },
      "execution_count": null,
      "outputs": [
        {
          "output_type": "stream",
          "name": "stdout",
          "text": [
            "Enter a number:0.234\n",
            "Percentage is 23.400000000000002 %\n"
          ]
        }
      ]
    },
    {
      "cell_type": "code",
      "source": [
        "text=\"Yanis\"\n",
        "print(text[2])"
      ],
      "metadata": {
        "colab": {
          "base_uri": "https://localhost:8080/"
        },
        "id": "w4W9iUPOtTHV",
        "outputId": "e0f0a6c0-bfbe-4877-907c-fbc758270ac3"
      },
      "execution_count": null,
      "outputs": [
        {
          "output_type": "stream",
          "name": "stdout",
          "text": [
            "n\n"
          ]
        }
      ]
    },
    {
      "cell_type": "code",
      "source": [
        "text=\"Yanis\"\n",
        "print(text[0:2])"
      ],
      "metadata": {
        "colab": {
          "base_uri": "https://localhost:8080/"
        },
        "id": "HsgA9lNWv-fq",
        "outputId": "60db71af-db5d-46b6-f421-747f0d26980f"
      },
      "execution_count": null,
      "outputs": [
        {
          "output_type": "stream",
          "name": "stdout",
          "text": [
            "Ya\n"
          ]
        }
      ]
    },
    {
      "cell_type": "code",
      "source": [
        "text=\"Yanis\"\n",
        "print(text[-1])"
      ],
      "metadata": {
        "colab": {
          "base_uri": "https://localhost:8080/"
        },
        "id": "5dzVUOODwKZq",
        "outputId": "b406f882-a004-4f21-c8a9-c8ecc7722caf"
      },
      "execution_count": null,
      "outputs": [
        {
          "output_type": "stream",
          "name": "stdout",
          "text": [
            "s\n"
          ]
        }
      ]
    },
    {
      "cell_type": "code",
      "source": [
        "text=\"Yanis\"\n",
        "print(text[-3:])"
      ],
      "metadata": {
        "colab": {
          "base_uri": "https://localhost:8080/"
        },
        "id": "hRn2e295wPAJ",
        "outputId": "3c38b73f-70a3-4a05-9b25-623717a32e61"
      },
      "execution_count": null,
      "outputs": [
        {
          "output_type": "stream",
          "name": "stdout",
          "text": [
            "nis\n"
          ]
        }
      ]
    },
    {
      "cell_type": "code",
      "source": [
        "a = input (\"Enter a city: \")\n",
        "if a[0]== \"L\":\n",
        "  print(\"Starts with L\")\n",
        "else:\n",
        "  print(\"Fuck off, will ya ?\")"
      ],
      "metadata": {
        "colab": {
          "base_uri": "https://localhost:8080/"
        },
        "id": "l3xlO_60xF3Z",
        "outputId": "f928416a-0da4-494e-a361-33df11d52d22"
      },
      "execution_count": null,
      "outputs": [
        {
          "output_type": "stream",
          "name": "stdout",
          "text": [
            "Enter a city: London\n",
            "Starts with L\n"
          ]
        }
      ]
    },
    {
      "cell_type": "code",
      "source": [
        "phrase = input(\"Enter a phrase: \")\n",
        "if phrase[-1]!= \".\":\n",
        "  print(\"You need a dot!\")\n",
        "else:\n",
        "  print(\"All good !\")"
      ],
      "metadata": {
        "colab": {
          "base_uri": "https://localhost:8080/"
        },
        "id": "_kFSlR8kyam0",
        "outputId": "da85e0a2-f1db-49d8-f627-89299ce62a74"
      },
      "execution_count": null,
      "outputs": [
        {
          "output_type": "stream",
          "name": "stdout",
          "text": [
            "Enter a phrase: hello\n",
            "You need a dot!\n"
          ]
        }
      ]
    }
  ]
}